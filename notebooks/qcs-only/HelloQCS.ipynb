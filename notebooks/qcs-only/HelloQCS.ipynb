{
 "cells": [
  {
   "cell_type": "markdown",
   "metadata": {},
   "source": [
    "# Hello QCS\n",
    "\n",
    "Welcome to QCS! Your QCS JupyterHub container is a virtual development and execution environment for quantum programming. It is hosted in close physical proximity to the QPUs in Rigetti’s quantum data center. This integrated platform eliminates the network latency found in web API access models, allowing you to iterate faster.For more information on this, check out our [documentation](https://docs.rigetti.com).\n",
    "\n",
    "In this beginner's example, we are going to run a simple `hello_qcs()`. This function composes a simple quantum program, compiles it, and then runs it on the target device of your choice: either the QVM or a QPU. "
   ]
  },
  {
   "cell_type": "markdown",
   "metadata": {},
   "source": [
    "## Imports\n",
    "\n",
    "To import `hello_qmi`, we must include in our path the folder in our QMI where it's located: one folder up from our current directory, or `..`."
   ]
  },
  {
   "cell_type": "code",
   "execution_count": 1,
   "metadata": {},
   "outputs": [],
   "source": [
    "import math\n",
    "import os\n",
    "import sys\n",
    "from typing import Optional\n",
    "\n",
    "from pyquil import Program, get_qc\n",
    "from pyquil.api import QVM\n",
    "from pyquil.gates import RX, MEASURE\n",
    "from pyquil.quil import Pragma"
   ]
  },
  {
   "cell_type": "markdown",
   "metadata": {},
   "source": [
    "## Run against the QVM Simulator\n",
    "\n",
    "The function `hello_qmi` takes an optional argument naming the device to target (the QVM or a QPU). If no argument is provided, the default device is a `9q-generic-qvm`."
   ]
  },
  {
   "cell_type": "code",
   "execution_count": 3,
   "metadata": {},
   "outputs": [],
   "source": [
    "def hello_qcs(device_name: str = \"9q-generic-qvm\", shots: int = 5) -> None:\n",
    "    \"\"\"\n",
    "    Get acquainted with your quantum computer by asking it to perform a simple\n",
    "    coin-toss experiment. Involve 3 qubits in this experiment, and ask each one\n",
    "    to give `shots` many results.\n",
    "\n",
    "    :param device_name: The name of a quantum computer which can be retrieved\n",
    "                        from `pyquil.api.get_qc()`. To find a list of all\n",
    "                        devices, you can use `pyquil.api.list_devices()`.\n",
    "    :param shots:       The number of times to run the Quil program steps\n",
    "    \"\"\"\n",
    "    # Initialize your Quil program\n",
    "    program = Program()\n",
    "\n",
    "    # Allow the compiler to re-index to use the available topology\n",
    "    program += Pragma('INITIAL_REWIRING', ['\"PARTIAL\"'])\n",
    "\n",
    "    # Declare 3 bits of memory space for the readout results of all three qubits\n",
    "    readout = program.declare('ro', 'BIT', 3)\n",
    "\n",
    "    # For each qubit, apply a pulse to move the qubit's state halfway between\n",
    "    # the 0 state and the 1 state\n",
    "    program += RX(math.pi / 2, 0)\n",
    "    program += RX(math.pi / 2, 1)\n",
    "    program += RX(math.pi / 2, 2)\n",
    "\n",
    "    # Add measurement instructions to measure the qubits and record the result\n",
    "    # into the respective bit in the readout register\n",
    "    program += MEASURE(0, readout[0])\n",
    "    program += MEASURE(1, readout[1])\n",
    "    program += MEASURE(2, readout[2])\n",
    "\n",
    "    # This tells the program how many times to run the above sequence\n",
    "    program.wrap_in_numshots_loop(shots)\n",
    "\n",
    "    # Get the quantum computer we want to run our experiment on\n",
    "    qc = get_qc(device_name)\n",
    "\n",
    "    # Compile the program, specific to which quantum computer we are using\n",
    "    compiled_program = qc.compile(program)\n",
    "\n",
    "    # Run the program and get the shots x 3 array of results\n",
    "    results = qc.run(compiled_program).readout_data.get('ro')\n",
    "    # Print the results. We expect to see (shots x 3) random 0's and 1's\n",
    "    print(f\"Your{' virtual' if isinstance(qc.qam, QVM) else ''} quantum \"\n",
    "          f\"computer, {device_name}, greets you with:\\n\", results)"
   ]
  },
  {
   "cell_type": "code",
   "execution_count": 4,
   "metadata": {},
   "outputs": [
    {
     "name": "stdout",
     "output_type": "stream",
     "text": [
      "Your virtual quantum computer, 9q-generic-qvm, greets you with:\n",
      " [[1 0 0]\n",
      " [0 1 0]\n",
      " [1 1 1]\n",
      " [0 0 0]\n",
      " [1 0 0]]\n"
     ]
    }
   ],
   "source": [
    "hello_qcs()"
   ]
  },
  {
   "cell_type": "markdown",
   "metadata": {},
   "source": [
    "Congratulations! You just ran your first program against the QVM simulator."
   ]
  },
  {
   "cell_type": "markdown",
   "metadata": {},
   "source": [
    "## Run against the real QPU\n",
    "To run against a real quantum computer, you only need to change the device argument to the `hello_qmi()` program. What QPU devices are available? We can use pyQuil to get a list."
   ]
  },
  {
   "cell_type": "code",
   "execution_count": 5,
   "metadata": {},
   "outputs": [],
   "source": [
    "# Query available devices (QPUs)\n",
    "from pyquil.api._quantum_processors import list_quantum_processors"
   ]
  },
  {
   "cell_type": "code",
   "execution_count": 6,
   "metadata": {},
   "outputs": [
    {
     "name": "stdout",
     "output_type": "stream",
     "text": [
      "Available devices: ['Aspen-4', 'Aspen-7'].\n",
      "\n",
      "Available lattices: ['Aspen-7-28Q-A', 'Aspen-7-25Q-B', 'Aspen-7-16Q-B', 'Aspen-7-15Q-B', 'Aspen-7-14Q-B', 'Aspen-7-13Q-B', 'Aspen-4-13Q-E', 'Aspen-7-12Q-B', 'Aspen-7-11Q-B', 'Aspen-7-10Q-B', 'Aspen-7-9Q-B', 'Aspen-4-9Q-E', 'Aspen-7-8Q-B', 'Aspen-4-8Q-E', 'Aspen-7-7Q-B', 'Aspen-4-7Q-E', 'Aspen-7-6Q-B', 'Aspen-4-6Q-E', 'Aspen-7-5Q-B', 'Aspen-4-5Q-E', 'Aspen-7-4Q-B', 'Aspen-7-4Q-C', 'Aspen-4-4Q-E', 'Aspen-4-4Q-D', 'Aspen-4-4Q-A', 'Aspen-4-3Q-A', 'Aspen-7-3Q-B', 'Aspen-4-3Q-E', 'Aspen-4-3Q-D', 'Aspen-4-2Q-C', 'Aspen-7-2Q-B', 'Aspen-4-2Q-A'].\n"
     ]
    }
   ],
   "source": [
    "quantum_processor_names = list_quantum_processors()  # Available quantum processors are subject to change.\n",
    "print(f\"Available devices: {quantum_processor_names}.\\n\")"
   ]
  },
  {
   "cell_type": "markdown",
   "metadata": {},
   "source": [
    "## Where to go from here\n",
    "\n",
    "This is just the beginning of your journey with QCS. Next, feel free to take a look under the hood at some of the QCS features that unlock the full potential of the platform for fast hybrid programming. These can be found in the other pre-loaded example notebooks; then, try writing some new notebooks of your own.\n",
    "\n",
    "If you have any trouble getting things set up, please reach out to support@rigetti.com.\n",
    "\n",
    "Happy quantum programming.\n",
    "\n",
    "*-- The QCS Team*"
   ]
  }
 ],
 "metadata": {
  "kernelspec": {
   "display_name": "Python 3",
   "language": "python",
   "name": "python3"
  },
  "language_info": {
   "codemirror_mode": {
    "name": "ipython",
    "version": 3
   },
   "file_extension": ".py",
   "mimetype": "text/x-python",
   "name": "python",
   "nbconvert_exporter": "python",
   "pygments_lexer": "ipython3",
   "version": "3.6.3"
  }
 },
 "nbformat": 4,
 "nbformat_minor": 2
}
